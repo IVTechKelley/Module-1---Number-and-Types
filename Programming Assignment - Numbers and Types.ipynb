{
 "cells": [
  {
   "cell_type": "markdown",
   "id": "915f8795",
   "metadata": {},
   "source": [
    "3.1 How many seconds are in an hour? Use the interactive interpreter as a calculator and multiply the number of seconds in a minute (60) by the number of minutes in an hour (also 60)."
   ]
  },
  {
   "cell_type": "code",
   "execution_count": 1,
   "id": "8400fcee",
   "metadata": {},
   "outputs": [
    {
     "data": {
      "text/plain": [
       "3600"
      ]
     },
     "execution_count": 1,
     "metadata": {},
     "output_type": "execute_result"
    }
   ],
   "source": [
    "60 * 60"
   ]
  },
  {
   "cell_type": "markdown",
   "id": "6483d980",
   "metadata": {},
   "source": [
    "3.2 Assign the result from the previous task (seconds in an hour) to a variable called seconds_per_hour."
   ]
  },
  {
   "cell_type": "code",
   "execution_count": 2,
   "id": "ee9b3710",
   "metadata": {},
   "outputs": [],
   "source": [
    "seconds_per_hour = 60 * 60"
   ]
  },
  {
   "cell_type": "markdown",
   "id": "37796af5",
   "metadata": {},
   "source": [
    "3.3 How many seconds are in a day? Use your seconds_per_hour variable."
   ]
  },
  {
   "cell_type": "code",
   "execution_count": 3,
   "id": "4e579a59",
   "metadata": {},
   "outputs": [
    {
     "data": {
      "text/plain": [
       "86400"
      ]
     },
     "execution_count": 3,
     "metadata": {},
     "output_type": "execute_result"
    }
   ],
   "source": [
    "seconds_per_hour * 24"
   ]
  },
  {
   "cell_type": "markdown",
   "id": "c4d37781",
   "metadata": {},
   "source": [
    "3.4 Calculate seconds per day again, but this time save the result in a variable called seconds_per_day."
   ]
  },
  {
   "cell_type": "code",
   "execution_count": 4,
   "id": "a4e6918c",
   "metadata": {},
   "outputs": [],
   "source": [
    "seconds_per_day = seconds_per_hour * 24"
   ]
  },
  {
   "cell_type": "markdown",
   "id": "5ac475a4",
   "metadata": {},
   "source": [
    "3.5 Divide seconds_per_day by seconds_per_hour. Use floating-point (/) division."
   ]
  },
  {
   "cell_type": "code",
   "execution_count": 5,
   "id": "1f96baf2",
   "metadata": {},
   "outputs": [
    {
     "data": {
      "text/plain": [
       "24.0"
      ]
     },
     "execution_count": 5,
     "metadata": {},
     "output_type": "execute_result"
    }
   ],
   "source": [
    "seconds_per_day / seconds_per_hour"
   ]
  },
  {
   "cell_type": "markdown",
   "id": "ea65877b",
   "metadata": {},
   "source": [
    "3.6 Divide seconds_per_day by seconds_per_hour, using integer (//) division. Did this number agree with the floating-point value from the previous question, aside from the final .0?"
   ]
  },
  {
   "cell_type": "code",
   "execution_count": 6,
   "id": "d7f2dec1",
   "metadata": {},
   "outputs": [
    {
     "data": {
      "text/plain": [
       "24"
      ]
     },
     "execution_count": 6,
     "metadata": {},
     "output_type": "execute_result"
    }
   ],
   "source": [
    "seconds_per_day // seconds_per_hour"
   ]
  },
  {
   "cell_type": "markdown",
   "id": "78db77b6",
   "metadata": {},
   "source": [
    "Yes. The results would only be different if the floating-point division resulted in a fraction/decimal, which would be rounded down during integer division. If floating-point division resulted in 24.9, the integer division would still be 24."
   ]
  },
  {
   "cell_type": "markdown",
   "id": "73f9dce0",
   "metadata": {},
   "source": []
  }
 ],
 "metadata": {
  "kernelspec": {
   "display_name": "Python 3 (ipykernel)",
   "language": "python",
   "name": "python3"
  },
  "language_info": {
   "codemirror_mode": {
    "name": "ipython",
    "version": 3
   },
   "file_extension": ".py",
   "mimetype": "text/x-python",
   "name": "python",
   "nbconvert_exporter": "python",
   "pygments_lexer": "ipython3",
   "version": "3.11.5"
  }
 },
 "nbformat": 4,
 "nbformat_minor": 5
}
